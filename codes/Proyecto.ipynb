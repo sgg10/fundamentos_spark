{
 "cells": [
  {
   "cell_type": "code",
   "execution_count": 12,
   "id": "d39dba99",
   "metadata": {},
   "outputs": [],
   "source": [
    "import os\n",
    "from pyspark import SparkContext, SQLContext\n",
    "from pyspark.sql import SparkSession\n",
    "from pyspark.sql.types import (\n",
    "    StructType,\n",
    "    StructField,\n",
    "    IntegerType,\n",
    "    StringType,\n",
    "    FloatType,\n",
    "    Row\n",
    ")\n",
    "from pyspark.sql.functions import col"
   ]
  },
  {
   "cell_type": "markdown",
   "id": "9ecdbdbc",
   "metadata": {},
   "source": [
    "# Set parent directory"
   ]
  },
  {
   "cell_type": "code",
   "execution_count": 2,
   "id": "b6aa97a9",
   "metadata": {},
   "outputs": [],
   "source": [
    "base = os.path.abspath(os.pardir)\n",
    "data_dir = os.path.join(base, \"work\", \"files\")"
   ]
  },
  {
   "cell_type": "markdown",
   "id": "ceaa6139",
   "metadata": {},
   "source": [
    "# Spark Context"
   ]
  },
  {
   "cell_type": "code",
   "execution_count": 3,
   "id": "0ceac46d",
   "metadata": {},
   "outputs": [
    {
     "name": "stderr",
     "output_type": "stream",
     "text": [
      "WARNING: An illegal reflective access operation has occurred\n",
      "WARNING: Illegal reflective access by org.apache.spark.unsafe.Platform (file:/usr/local/spark-3.1.2-bin-hadoop3.2/jars/spark-unsafe_2.12-3.1.2.jar) to constructor java.nio.DirectByteBuffer(long,int)\n",
      "WARNING: Please consider reporting this to the maintainers of org.apache.spark.unsafe.Platform\n",
      "WARNING: Use --illegal-access=warn to enable warnings of further illegal reflective access operations\n",
      "WARNING: All illegal access operations will be denied in a future release\n",
      "21/08/21 01:45:28 WARN NativeCodeLoader: Unable to load native-hadoop library for your platform... using builtin-java classes where applicable\n",
      "Using Spark's default log4j profile: org/apache/spark/log4j-defaults.properties\n",
      "Setting default log level to \"WARN\".\n",
      "To adjust logging level use sc.setLogLevel(newLevel). For SparkR, use setLogLevel(newLevel).\n"
     ]
    }
   ],
   "source": [
    "spark = SparkContext(master=\"local\", appName=\"SparkProject\")\n",
    "sql_context = SQLContext(spark)"
   ]
  },
  {
   "cell_type": "markdown",
   "id": "a7b9a8da",
   "metadata": {},
   "source": [
    "# Schemas"
   ]
  },
  {
   "cell_type": "code",
   "execution_count": 4,
   "id": "2efe8277",
   "metadata": {},
   "outputs": [],
   "source": [
    "schemas = {\n",
    "    \"deporte\": StructType([\n",
    "        StructField(\"deporte_id\", IntegerType(), False),\n",
    "        StructField(\"deporte\", StringType(), False)\n",
    "    ]),\n",
    "    \"deportista\": StructType([\n",
    "        StructField(\"deportista_id\", IntegerType(), False),\n",
    "        StructField(\"nombre\", StringType(), False),\n",
    "        StructField(\"genero\", StringType(), False),\n",
    "        StructField(\"edad\", IntegerType(), False),\n",
    "        StructField(\"altura\", IntegerType(), False),\n",
    "        StructField(\"peso\", FloatType(), False),\n",
    "        StructField(\"equipo_id\", IntegerType(), False)\n",
    "    ]),\n",
    "    \"evento\": StructType([\n",
    "        StructField(\"evento_id\", IntegerType(), False),\n",
    "        StructField(\"evento\", StringType(), False),\n",
    "        StructField(\"deporte_id\", IntegerType(), False)\n",
    "    ]),\n",
    "    \"juegos\": StructType([\n",
    "        StructField(\"juego_id\", IntegerType(), False),\n",
    "        StructField(\"nombre_juego\", StringType(), False),\n",
    "        StructField(\"anio\", IntegerType(), False),\n",
    "        StructField(\"temporada\", StringType(), False),\n",
    "        StructField(\"ciudad\", StringType(), False)\n",
    "    ]),\n",
    "    \"paises\": StructType([\n",
    "        StructField(\"pais_id\", IntegerType(), False),\n",
    "        StructField(\"equipo\", StringType(), False),\n",
    "        StructField(\"sigla\", StringType(), False)\n",
    "    ]),\n",
    "    \"resultados\": StructType([\n",
    "        StructField(\"resultado_id\", IntegerType(), False),\n",
    "        StructField(\"medalla\", StringType(), False),\n",
    "        StructField(\"deportista_id\", IntegerType(), False),\n",
    "        StructField(\"juego_id\", IntegerType(), False),\n",
    "        StructField(\"evento_id\", IntegerType(), False)\n",
    "    ])\n",
    "}"
   ]
  },
  {
   "cell_type": "markdown",
   "id": "1ea33885",
   "metadata": {},
   "source": [
    "# Load Dataframes"
   ]
  },
  {
   "cell_type": "code",
   "execution_count": 5,
   "id": "46527c75",
   "metadata": {},
   "outputs": [],
   "source": [
    "dp1 = sql_context.read.schema(schemas['deportista']).option(\"header\", \"true\").csv(f\"{data_dir}/deportista.csv\")\n",
    "dp2 = sql_context.read.schema(schemas['deportista']).option(\"header\", \"false\").csv(f\"{data_dir}/deportista2.csv\")\n",
    "\n",
    "dataframes = {\n",
    "    \"deporte\": sql_context.read.schema(schemas['deporte']).option(\"header\", \"true\").csv(f\"{data_dir}/deporte.csv\"),\n",
    "    \"deportista\": dp1.union(dp2),\n",
    "    \"evento\": sql_context.read.schema(schemas['evento']).option(\"header\", \"true\").csv(f\"{data_dir}/evento.csv\"),\n",
    "    \"juegos\": sql_context.read.schema(schemas['juegos']).option(\"header\", \"true\").csv(f\"{data_dir}/juegos.csv\"),\n",
    "    \"paises\": sql_context.read.schema(schemas['paises']).option(\"header\", \"true\").csv(f\"{data_dir}/paises.csv\"),\n",
    "    \"resultados\": sql_context.read.schema(schemas['resultados']).option(\"header\", \"true\").csv(f\"{data_dir}/resultados.csv\")\n",
    "}\n",
    "del(dp1, dp2)"
   ]
  },
  {
   "cell_type": "code",
   "execution_count": 7,
   "id": "1687dce8",
   "metadata": {},
   "outputs": [
    {
     "name": "stdout",
     "output_type": "stream",
     "text": [
      "root\n",
      " |-- deportista_id: integer (nullable = true)\n",
      " |-- nombre: string (nullable = true)\n",
      " |-- genero: string (nullable = true)\n",
      " |-- edad: integer (nullable = true)\n",
      " |-- altura: integer (nullable = true)\n",
      " |-- peso: float (nullable = true)\n",
      " |-- equipo_id: integer (nullable = true)\n",
      "\n"
     ]
    }
   ],
   "source": [
    "dataframes['deportista'].printSchema()"
   ]
  },
  {
   "cell_type": "markdown",
   "id": "64f125fa",
   "metadata": {},
   "source": [
    "# Transform"
   ]
  },
  {
   "cell_type": "code",
   "execution_count": 8,
   "id": "b11b6078",
   "metadata": {},
   "outputs": [],
   "source": [
    "dataframes['deportista'] = dataframes['deportista'].withColumnRenamed(\"genero\", \"sexo\")"
   ]
  },
  {
   "cell_type": "code",
   "execution_count": 9,
   "id": "00db4a4c",
   "metadata": {},
   "outputs": [],
   "source": [
    "dataframes['deportista'] = dataframes['deportista'].drop(\"altura\")"
   ]
  },
  {
   "cell_type": "code",
   "execution_count": 11,
   "id": "84c5546c",
   "metadata": {},
   "outputs": [
    {
     "name": "stdout",
     "output_type": "stream",
     "text": [
      "root\n",
      " |-- deportista_id: integer (nullable = true)\n",
      " |-- nombre: string (nullable = true)\n",
      " |-- sexo: string (nullable = true)\n",
      " |-- edad: integer (nullable = true)\n",
      " |-- peso: float (nullable = true)\n",
      " |-- equipo_id: integer (nullable = true)\n",
      "\n"
     ]
    }
   ],
   "source": [
    "dataframes['deportista'].printSchema()"
   ]
  },
  {
   "cell_type": "markdown",
   "id": "57320259",
   "metadata": {},
   "source": [
    "- La forma anterior de renombrar lo hace recorriendo todo la columna, lo cual puede ser costoso. Para un mejor rendimiento, es mejor usar la siguiente forma."
   ]
  },
  {
   "cell_type": "code",
   "execution_count": 13,
   "id": "4d8c69f2",
   "metadata": {},
   "outputs": [],
   "source": [
    "dataframes['deportista'] = dataframes['deportista'].select(\n",
    "    \"deportista_id\",\n",
    "    \"nombre\",\n",
    "    col(\"edad\").alias(\"edad_al_jugar\"),\n",
    "    \"equipo_id\"\n",
    ")"
   ]
  },
  {
   "cell_type": "code",
   "execution_count": 15,
   "id": "6c844558",
   "metadata": {},
   "outputs": [
    {
     "name": "stdout",
     "output_type": "stream",
     "text": [
      "+-------------+--------------------+-------------+---------+\n",
      "|deportista_id|              nombre|edad_al_jugar|equipo_id|\n",
      "+-------------+--------------------+-------------+---------+\n",
      "|            1|           A Dijiang|           24|      199|\n",
      "|            2|            A Lamusi|           23|      199|\n",
      "|            3| Gunnar Nielsen Aaby|           24|      273|\n",
      "|            4|Edgar Lindenau Aabye|           34|      278|\n",
      "|            5|Christine Jacoba ...|           21|      705|\n",
      "+-------------+--------------------+-------------+---------+\n",
      "only showing top 5 rows\n",
      "\n"
     ]
    }
   ],
   "source": [
    "dataframes['deportista'].show(5)"
   ]
  },
  {
   "cell_type": "code",
   "execution_count": 16,
   "id": "d752072e",
   "metadata": {},
   "outputs": [
    {
     "name": "stdout",
     "output_type": "stream",
     "text": [
      "+-------------+--------------------+-------------+---------+\n",
      "|deportista_id|              nombre|edad_al_jugar|equipo_id|\n",
      "+-------------+--------------------+-------------+---------+\n",
      "|          224|     Mohamed AbdelEl|            0|      308|\n",
      "|          487|      Inni Aboubacar|            0|      721|\n",
      "|          226|Sanad Bushara Abd...|            0|     1003|\n",
      "|           58|    Georgi Abadzhiev|            0|      154|\n",
      "|          230|    Moustafa Abdelal|            0|      308|\n",
      "|          102|   Sayed Fahmy Abaza|            0|      308|\n",
      "|          260|  Ahmed Abdo Mustafa|            0|     1003|\n",
      "|          139|George Ioannis Abbot|            0|     1043|\n",
      "|          281|      S. Abdul Hamid|            0|      487|\n",
      "|          163|     Ismail Abdallah|            0|     1095|\n",
      "|          285|Talal Hassoun Abd...|            0|      497|\n",
      "|          173| Mohamed Abdel Fatah|            0|     1003|\n",
      "|          179|Ibrahim Saad Abde...|            0|     1003|\n",
      "|          378|     Angelik Abebame|            0|        0|\n",
      "|          294|Mohamed Ghulom Ab...|            0|       81|\n",
      "|          186| Mohamed Abdel Hafiz|            0|     1095|\n",
      "|          300|     A. Abdul Razzak|            0|      497|\n",
      "|          190| Ibrahim Abdel Hamid|            0|      308|\n",
      "|          301|Mohamed Abdul Razzak|            0|      497|\n",
      "|          209|Ibrahim Abdel Rahman|            0|     1095|\n",
      "+-------------+--------------------+-------------+---------+\n",
      "only showing top 20 rows\n",
      "\n"
     ]
    },
    {
     "name": "stderr",
     "output_type": "stream",
     "text": [
      "\r",
      "[Stage 2:=============================>                             (1 + 1) / 2]\r",
      "\r",
      "                                                                                \r"
     ]
    }
   ],
   "source": [
    "dataframes['deportista'].sort(\"edad_al_jugar\").show()"
   ]
  },
  {
   "cell_type": "markdown",
   "id": "b9efd222",
   "metadata": {},
   "source": [
    "- Como podemos ver, tenemos información basura ya que no es posible tener 0 años"
   ]
  },
  {
   "cell_type": "code",
   "execution_count": 20,
   "id": "c91c9666",
   "metadata": {},
   "outputs": [],
   "source": [
    "dataframes['deportista'] = dataframes['deportista'].filter((dataframes['deportista'].edad_al_jugar != 0))"
   ]
  },
  {
   "cell_type": "code",
   "execution_count": 21,
   "id": "49fed459",
   "metadata": {},
   "outputs": [
    {
     "name": "stdout",
     "output_type": "stream",
     "text": [
      "+-------------+--------------------+-------------+---------+\n",
      "|deportista_id|              nombre|edad_al_jugar|equipo_id|\n",
      "+-------------+--------------------+-------------+---------+\n",
      "|        71691|  Dimitrios Loundras|           10|      333|\n",
      "|        70616|          Liu Luyang|           11|      199|\n",
      "|       118925|Megan Olwen Deven...|           11|      413|\n",
      "|        52070|        Etsuko Inada|           11|      514|\n",
      "|        22411|Magdalena Cecilia...|           11|      413|\n",
      "|        40129|    Luigina Giavotti|           11|      507|\n",
      "|        47618|Sonja Henie Toppi...|           11|      742|\n",
      "|        76675|   Marcelle Matthews|           11|      967|\n",
      "|        37333|Carlos Bienvenido...|           11|      982|\n",
      "|        51268|      Beatrice Hutiu|           11|      861|\n",
      "|       126307|        Liana Vicens|           11|      825|\n",
      "|        48939|             Ho Gang|           12|      738|\n",
      "|        49142|        Jan Hoffmann|           12|      302|\n",
      "|        42835|   Werner Grieshofer|           12|       71|\n",
      "|        54620|Belita Gladys Lyn...|           12|      413|\n",
      "|        31203|Patricia Anne Pat...|           12|      967|\n",
      "|        43528|Antoinette Joyce ...|           12|      172|\n",
      "|        46578|        Diana Hatler|           12|      825|\n",
      "|        59727|Marika Kilius Zah...|           12|      399|\n",
      "|        40296|    Alain C. Giletti|           12|      362|\n",
      "+-------------+--------------------+-------------+---------+\n",
      "only showing top 20 rows\n",
      "\n"
     ]
    }
   ],
   "source": [
    "dataframes['deportista'].sort(\"edad_al_jugar\").show()"
   ]
  },
  {
   "cell_type": "markdown",
   "id": "d6470a5f",
   "metadata": {},
   "source": [
    "# Joins"
   ]
  },
  {
   "cell_type": "code",
   "execution_count": 29,
   "id": "0bbbbb12",
   "metadata": {},
   "outputs": [],
   "source": [
    "report = dataframes['deportista'].join(\n",
    "    dataframes['resultados'],\n",
    "    dataframes['deportista'].deportista_id == dataframes['resultados'].deportista_id,\n",
    "    \"left\"\n",
    ").join(\n",
    "    dataframes['juegos'],\n",
    "    dataframes['resultados'].juego_id == dataframes['juegos'].juego_id,\n",
    "    \"left\"\n",
    ").join(\n",
    "    dataframes['evento'],\n",
    "    dataframes['resultados'].evento_id == dataframes['evento'].evento_id,\n",
    "    \"left\"\n",
    ").join(\n",
    "    dataframes['deporte'],\n",
    "    dataframes['evento'].deporte_id == dataframes['deporte'].deporte_id,\n",
    "    \"left\"\n",
    ").select(\n",
    "    dataframes['deportista'].nombre, \"edad_al_jugar\", \"medalla\", col(\"anio\").alias(\"año de juego\"),\n",
    "    dataframes['deporte'].deporte.alias(\"deporte\")\n",
    ")"
   ]
  },
  {
   "cell_type": "code",
   "execution_count": 30,
   "id": "436f9d4a",
   "metadata": {},
   "outputs": [
    {
     "name": "stderr",
     "output_type": "stream",
     "text": [
      "21/08/21 02:26:02 WARN CSVHeaderChecker: CSV header does not conform to the schema.\n",
      " Header: , annio\n",
      " Schema: juego_id, anio\n",
      "Expected: juego_id but found: \n",
      "CSV file: file:///home/jovyan/work/files/juegos.csv\n"
     ]
    },
    {
     "name": "stdout",
     "output_type": "stream",
     "text": [
      "+--------------------+-------------+-------+------------+--------------------+\n",
      "|              nombre|edad_al_jugar|medalla|año de juego|             deporte|\n",
      "+--------------------+-------------+-------+------------+--------------------+\n",
      "|           A Dijiang|           24|     NA|        1992|          Basketball|\n",
      "|            A Lamusi|           23|     NA|        2012|                Judo|\n",
      "| Gunnar Nielsen Aaby|           24|     NA|        1920|            Football|\n",
      "|Edgar Lindenau Aabye|           34|   Gold|        1900|          Tug-Of-War|\n",
      "|Christine Jacoba ...|           21|     NA|        1994|       Speed Skating|\n",
      "|Christine Jacoba ...|           21|     NA|        1994|       Speed Skating|\n",
      "|Christine Jacoba ...|           21|     NA|        1992|       Speed Skating|\n",
      "|Christine Jacoba ...|           21|     NA|        1992|       Speed Skating|\n",
      "|Christine Jacoba ...|           21|     NA|        1988|       Speed Skating|\n",
      "|Christine Jacoba ...|           21|     NA|        1988|       Speed Skating|\n",
      "|     Per Knut Aaland|           31|     NA|        1994|Cross Country Skiing|\n",
      "|     Per Knut Aaland|           31|     NA|        1994|Cross Country Skiing|\n",
      "|     Per Knut Aaland|           31|     NA|        1994|Cross Country Skiing|\n",
      "|     Per Knut Aaland|           31|     NA|        1994|Cross Country Skiing|\n",
      "|     Per Knut Aaland|           31|     NA|        1992|Cross Country Skiing|\n",
      "|     Per Knut Aaland|           31|     NA|        1992|Cross Country Skiing|\n",
      "|     Per Knut Aaland|           31|     NA|        1992|Cross Country Skiing|\n",
      "|     Per Knut Aaland|           31|     NA|        1992|Cross Country Skiing|\n",
      "|        John Aalberg|           31|     NA|        1994|Cross Country Skiing|\n",
      "|        John Aalberg|           31|     NA|        1994|Cross Country Skiing|\n",
      "+--------------------+-------------+-------+------------+--------------------+\n",
      "only showing top 20 rows\n",
      "\n"
     ]
    }
   ],
   "source": [
    "report.show()"
   ]
  },
  {
   "cell_type": "code",
   "execution_count": 33,
   "id": "f3f46fcb",
   "metadata": {},
   "outputs": [
    {
     "name": "stderr",
     "output_type": "stream",
     "text": [
      "21/08/21 02:27:07 WARN CSVHeaderChecker: CSV header does not conform to the schema.\n",
      " Header: , annio\n",
      " Schema: juego_id, anio\n",
      "Expected: juego_id but found: \n",
      "CSV file: file:///home/jovyan/work/files/juegos.csv\n"
     ]
    },
    {
     "name": "stdout",
     "output_type": "stream",
     "text": [
      "+--------------------+-------------+-------+------------+-------------+\n",
      "|              nombre|edad_al_jugar|medalla|año de juego|      deporte|\n",
      "+--------------------+-------------+-------+------------+-------------+\n",
      "|Edgar Lindenau Aabye|           34|   Gold|        1900|   Tug-Of-War|\n",
      "|Arvo Ossian Aaltonen|           22| Bronze|        1920|     Swimming|\n",
      "|Arvo Ossian Aaltonen|           22| Bronze|        1920|     Swimming|\n",
      "|Juhamatti Tapio A...|           28| Bronze|        2014|   Ice Hockey|\n",
      "|Paavo Johannes Aa...|           28| Bronze|        1948|   Gymnastics|\n",
      "|Paavo Johannes Aa...|           28|   Gold|        1948|   Gymnastics|\n",
      "|Paavo Johannes Aa...|           28|   Gold|        1948|   Gymnastics|\n",
      "|Paavo Johannes Aa...|           28|   Gold|        1948|   Gymnastics|\n",
      "|Paavo Johannes Aa...|           28| Bronze|        1952|   Gymnastics|\n",
      "|  Kjetil Andr Aamodt|           20|   Gold|        1992|Alpine Skiing|\n",
      "|  Kjetil Andr Aamodt|           20| Bronze|        1992|Alpine Skiing|\n",
      "|  Kjetil Andr Aamodt|           20| Silver|        1994|Alpine Skiing|\n",
      "|  Kjetil Andr Aamodt|           20| Bronze|        1994|Alpine Skiing|\n",
      "|  Kjetil Andr Aamodt|           20| Silver|        1994|Alpine Skiing|\n",
      "|  Kjetil Andr Aamodt|           20|   Gold|        2002|Alpine Skiing|\n",
      "|  Kjetil Andr Aamodt|           20|   Gold|        2002|Alpine Skiing|\n",
      "|  Kjetil Andr Aamodt|           20|   Gold|        2006|Alpine Skiing|\n",
      "|Ragnhild Margreth...|           27|   Gold|        2008|     Handball|\n",
      "|    Alf Lied Aanning|           24| Silver|        1920|   Gymnastics|\n",
      "|Willemien Aardenburg|           22| Bronze|        1988|       Hockey|\n",
      "+--------------------+-------------+-------+------------+-------------+\n",
      "only showing top 20 rows\n",
      "\n"
     ]
    }
   ],
   "source": [
    "report.filter((report.medalla != \"NA\")).show()"
   ]
  },
  {
   "cell_type": "code",
   "execution_count": null,
   "id": "8e0678fe",
   "metadata": {},
   "outputs": [],
   "source": [
    "paises_medallas = dataframes['deportista'].join(\n",
    "    dataframes['resultados'],\n",
    "    dataframes['deportista'].deportista_id == dataframes['resultados'].deportista_id,\n",
    "    \"left\"\n",
    ").join(\n",
    "    dataframes['juegos'],\n",
    "    dataframes['resultados'].juego_id == dataframes['juegos'].juego_id,\n",
    "    \"left\"\n",
    ").join(\n",
    "    dataframes['evento'],\n",
    "    dataframes['resultados'].evento_id == dataframes['evento'].evento_id,\n",
    "    \"left\"\n",
    ").join(\n",
    "    dataframes['deporte'],\n",
    "    dataframes['evento'].deporte_id == dataframes['deporte'].deporte_id,\n",
    "    \"left\"\n",
    ").select(\n",
    "    dataframes['deportista'].nombre, \"edad_al_jugar\", \"medalla\", col(\"anio\").alias(\"año de juego\"),\n",
    "    dataframes['deporte'].deporte.alias(\"deporte\")\n",
    ")"
   ]
  }
 ],
 "metadata": {
  "kernelspec": {
   "display_name": "Python 3 (ipykernel)",
   "language": "python",
   "name": "python3"
  },
  "language_info": {
   "codemirror_mode": {
    "name": "ipython",
    "version": 3
   },
   "file_extension": ".py",
   "mimetype": "text/x-python",
   "name": "python",
   "nbconvert_exporter": "python",
   "pygments_lexer": "ipython3",
   "version": "3.9.6"
  }
 },
 "nbformat": 4,
 "nbformat_minor": 5
}
