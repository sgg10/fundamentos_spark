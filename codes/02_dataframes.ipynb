{
 "cells": [
  {
   "cell_type": "code",
   "execution_count": 1,
   "id": "9d1e7d37",
   "metadata": {},
   "outputs": [],
   "source": [
    "import os\n",
    "from pyspark import SparkContext, SQLContext\n",
    "from pyspark.sql import SparkSession\n",
    "from pyspark.sql.types import (\n",
    "    StructType,\n",
    "    StructField,\n",
    "    IntegerType,\n",
    "    StringType,\n",
    "    FloatType,\n",
    "    Row\n",
    ")"
   ]
  },
  {
   "cell_type": "code",
   "execution_count": 2,
   "id": "b7dd5128",
   "metadata": {},
   "outputs": [
    {
     "name": "stderr",
     "output_type": "stream",
     "text": [
      "WARNING: An illegal reflective access operation has occurred\n",
      "WARNING: Illegal reflective access by org.apache.spark.unsafe.Platform (file:/usr/local/spark-3.1.2-bin-hadoop3.2/jars/spark-unsafe_2.12-3.1.2.jar) to constructor java.nio.DirectByteBuffer(long,int)\n",
      "WARNING: Please consider reporting this to the maintainers of org.apache.spark.unsafe.Platform\n",
      "WARNING: Use --illegal-access=warn to enable warnings of further illegal reflective access operations\n",
      "WARNING: All illegal access operations will be denied in a future release\n",
      "21/08/21 00:25:03 WARN NativeCodeLoader: Unable to load native-hadoop library for your platform... using builtin-java classes where applicable\n",
      "Using Spark's default log4j profile: org/apache/spark/log4j-defaults.properties\n",
      "Setting default log level to \"WARN\".\n",
      "To adjust logging level use sc.setLogLevel(newLevel). For SparkR, use setLogLevel(newLevel).\n"
     ]
    }
   ],
   "source": [
    "spark = SparkContext(master=\"local\", appName=\"DataFrames\")\n",
    "sql_context = SQLContext(spark)"
   ]
  },
  {
   "cell_type": "markdown",
   "id": "60f41319",
   "metadata": {},
   "source": [
    "# Set parent directory"
   ]
  },
  {
   "cell_type": "code",
   "execution_count": 3,
   "id": "870cca1d",
   "metadata": {},
   "outputs": [
    {
     "data": {
      "text/plain": [
       "'/home/jovyan/work/files'"
      ]
     },
     "execution_count": 3,
     "metadata": {},
     "output_type": "execute_result"
    }
   ],
   "source": [
    "base = os.path.abspath(os.pardir)\n",
    "data_dir = os.path.join(base, \"work\", \"files\")\n",
    "data_dir"
   ]
  },
  {
   "cell_type": "markdown",
   "id": "b8467844",
   "metadata": {},
   "source": [
    "# Schema"
   ]
  },
  {
   "cell_type": "code",
   "execution_count": 4,
   "id": "47be962f",
   "metadata": {},
   "outputs": [],
   "source": [
    "juego_schema = StructType([\n",
    "    StructField(\"juego_id\", IntegerType(), False),\n",
    "    StructField(\"nombre_juego\", StringType(), False),\n",
    "    StructField(\"anio\", StringType(), False),\n",
    "    StructField(\"temporada\", StringType(), False),\n",
    "    StructField(\"ciudad\", StringType(), False)\n",
    "])\n",
    "\n",
    "juego_df = sql_context.read.schema(juego_schema).option(\"header\", \"true\").csv(f\"{data_dir}/juegos.csv\")"
   ]
  },
  {
   "cell_type": "code",
   "execution_count": 5,
   "id": "33895ff7",
   "metadata": {},
   "outputs": [
    {
     "name": "stdout",
     "output_type": "stream",
     "text": [
      "+--------+------------+----+---------+---------+\n",
      "|juego_id|nombre_juego|anio|temporada|   ciudad|\n",
      "+--------+------------+----+---------+---------+\n",
      "|       1| 1896 Verano|1896|   Verano|   Athina|\n",
      "|       2| 1900 Verano|1900|   Verano|    Paris|\n",
      "|       3| 1904 Verano|1904|   Verano|St. Louis|\n",
      "|       4| 1906 Verano|1906|   Verano|   Athina|\n",
      "|       5| 1908 Verano|1908|   Verano|   London|\n",
      "+--------+------------+----+---------+---------+\n",
      "only showing top 5 rows\n",
      "\n"
     ]
    },
    {
     "name": "stderr",
     "output_type": "stream",
     "text": [
      "21/08/21 00:25:13 WARN CSVHeaderChecker: CSV header does not conform to the schema.\n",
      " Header: , nombre_juego, annio, temporada, ciudad\n",
      " Schema: juego_id, nombre_juego, anio, temporada, ciudad\n",
      "Expected: juego_id but found: \n",
      "CSV file: file:///home/jovyan/work/files/juegos.csv\n"
     ]
    }
   ],
   "source": [
    "juego_df.show(5)"
   ]
  },
  {
   "cell_type": "code",
   "execution_count": 6,
   "id": "66be8f3a",
   "metadata": {},
   "outputs": [
    {
     "data": {
      "text/html": [
       "\n",
       "        <div>\n",
       "            <p><b>SparkContext</b></p>\n",
       "\n",
       "            <p><a href=\"http://d1ccfeaf60bf:4040\">Spark UI</a></p>\n",
       "\n",
       "            <dl>\n",
       "              <dt>Version</dt>\n",
       "                <dd><code>v3.1.2</code></dd>\n",
       "              <dt>Master</dt>\n",
       "                <dd><code>local</code></dd>\n",
       "              <dt>AppName</dt>\n",
       "                <dd><code>DataFrames</code></dd>\n",
       "            </dl>\n",
       "        </div>\n",
       "        "
      ],
      "text/plain": [
       "<SparkContext master=local appName=DataFrames>"
      ]
     },
     "execution_count": 6,
     "metadata": {},
     "output_type": "execute_result"
    }
   ],
   "source": [
    "spark"
   ]
  },
  {
   "cell_type": "markdown",
   "id": "c9de756d",
   "metadata": {},
   "source": [
    "## Convert RDD to DataFrame"
   ]
  },
  {
   "cell_type": "code",
   "execution_count": 28,
   "id": "b12913f0",
   "metadata": {},
   "outputs": [],
   "source": [
    "deportista_olimpico_rdd = spark.textFile(f\"{data_dir}/deportista.csv\").map(lambda l: l.split(\",\"))"
   ]
  },
  {
   "cell_type": "code",
   "execution_count": 29,
   "id": "21632046",
   "metadata": {},
   "outputs": [
    {
     "data": {
      "text/plain": [
       "[['deportista_id', 'nombre', 'genero', 'edad', 'altura', 'peso', 'equipo_id'],\n",
       " ['1', 'A Dijiang', '1', '24', '180', '80', '199'],\n",
       " ['2', 'A Lamusi', '1', '23', '170', '60', '199'],\n",
       " ['3', 'Gunnar Nielsen Aaby', '1', '24', '0', '0', '273'],\n",
       " ['4', 'Edgar Lindenau Aabye', '1', '34', '0', '0', '278']]"
      ]
     },
     "execution_count": 29,
     "metadata": {},
     "output_type": "execute_result"
    }
   ],
   "source": [
    "deportista_olimpico_rdd.take(5)"
   ]
  },
  {
   "cell_type": "code",
   "execution_count": 30,
   "id": "0bfe5343",
   "metadata": {},
   "outputs": [],
   "source": [
    "remove_headers = lambda idx, iterator: iter(list(iterator)[1:])"
   ]
  },
  {
   "cell_type": "code",
   "execution_count": 31,
   "id": "5b5e5e12",
   "metadata": {},
   "outputs": [],
   "source": [
    "deportista_olimpico_rdd = deportista_olimpico_rdd.mapPartitionsWithIndex(remove_headers)"
   ]
  },
  {
   "cell_type": "code",
   "execution_count": 32,
   "id": "6742ee01",
   "metadata": {},
   "outputs": [
    {
     "data": {
      "text/plain": [
       "[['1', 'A Dijiang', '1', '24', '180', '80', '199'],\n",
       " ['2', 'A Lamusi', '1', '23', '170', '60', '199'],\n",
       " ['3', 'Gunnar Nielsen Aaby', '1', '24', '0', '0', '273'],\n",
       " ['4', 'Edgar Lindenau Aabye', '1', '34', '0', '0', '278'],\n",
       " ['5', 'Christine Jacoba Aaftink', '2', '21', '185', '82', '705']]"
      ]
     },
     "execution_count": 32,
     "metadata": {},
     "output_type": "execute_result"
    }
   ],
   "source": [
    "deportista_olimpico_rdd.take(5)"
   ]
  },
  {
   "cell_type": "code",
   "execution_count": 39,
   "id": "47b8a3ee",
   "metadata": {},
   "outputs": [],
   "source": [
    "deportista_olimpico_rdd = deportista_olimpico_rdd.map(lambda l: (\n",
    "    int(l[0]),\n",
    "    l[1],\n",
    "    int(l[2]),\n",
    "    int(l[3]),\n",
    "    int(l[4]),\n",
    "    float(l[5]),\n",
    "    int(l[6])\n",
    "))"
   ]
  },
  {
   "cell_type": "code",
   "execution_count": 40,
   "id": "f8f3689b",
   "metadata": {},
   "outputs": [],
   "source": [
    "schema = StructType([\n",
    "    StructField(\"deportista_id\", IntegerType(), False),\n",
    "    StructField(\"nombre\", StringType(), False),\n",
    "    StructField(\"genero\", StringType(), False),\n",
    "    StructField(\"edad\", IntegerType(), False),\n",
    "    StructField(\"altura\", IntegerType(), False),\n",
    "    StructField(\"peso\", FloatType(), False),\n",
    "    StructField(\"equipo_id\", IntegerType(), False)\n",
    "])\n"
   ]
  },
  {
   "cell_type": "code",
   "execution_count": 41,
   "id": "c5518638",
   "metadata": {},
   "outputs": [],
   "source": [
    "deportista_dataframe = sql_context.createDataFrame(deportista_olimpico_rdd, schema)"
   ]
  },
  {
   "cell_type": "code",
   "execution_count": 42,
   "id": "6c74d126",
   "metadata": {},
   "outputs": [
    {
     "name": "stdout",
     "output_type": "stream",
     "text": [
      "+-------------+--------------------+------+----+------+----+---------+\n",
      "|deportista_id|              nombre|genero|edad|altura|peso|equipo_id|\n",
      "+-------------+--------------------+------+----+------+----+---------+\n",
      "|            1|           A Dijiang|     1|  24|   180|80.0|      199|\n",
      "|            2|            A Lamusi|     1|  23|   170|60.0|      199|\n",
      "|            3| Gunnar Nielsen Aaby|     1|  24|     0| 0.0|      273|\n",
      "|            4|Edgar Lindenau Aabye|     1|  34|     0| 0.0|      278|\n",
      "|            5|Christine Jacoba ...|     2|  21|   185|82.0|      705|\n",
      "+-------------+--------------------+------+----+------+----+---------+\n",
      "only showing top 5 rows\n",
      "\n"
     ]
    }
   ],
   "source": [
    "deportista_dataframe.show(5)"
   ]
  },
  {
   "cell_type": "markdown",
   "id": "a9201873",
   "metadata": {},
   "source": [
    "## Reto\n",
    "- Transformar todos los CSV a dataframes"
   ]
  },
  {
   "cell_type": "code",
   "execution_count": 48,
   "id": "86d5f857",
   "metadata": {},
   "outputs": [],
   "source": [
    "# Schemas\n",
    "\n",
    "schemas = {\n",
    "    \"deporte\": StructType([\n",
    "        StructField(\"deporte_id\", IntegerType(), False),\n",
    "        StructField(\"deporte\", StringType(), False)\n",
    "    ]),\n",
    "    \"deportista\": StructType([\n",
    "        StructField(\"deportista_id\", IntegerType(), False),\n",
    "        StructField(\"nombre\", StringType(), False),\n",
    "        StructField(\"genero\", StringType(), False),\n",
    "        StructField(\"edad\", IntegerType(), False),\n",
    "        StructField(\"altura\", IntegerType(), False),\n",
    "        StructField(\"peso\", FloatType(), False),\n",
    "        StructField(\"equipo_id\", IntegerType(), False)\n",
    "    ]),\n",
    "    \"evento\": StructType([\n",
    "        StructField(\"evento_id\", IntegerType(), False),\n",
    "        StructField(\"evento\", StringType(), False),\n",
    "        StructField(\"deporte_id\", IntegerType(), False)\n",
    "    ]),\n",
    "    \"juegos\": StructType([\n",
    "        StructField(\"juego_id\", IntegerType(), False),\n",
    "        StructField(\"nombre_juego\", StringType(), False),\n",
    "        StructField(\"anio\", IntegerType(), False),\n",
    "        StructField(\"temporada\", StringType(), False),\n",
    "        StructField(\"ciudad\", StringType(), False)\n",
    "    ]),\n",
    "    \"paises\": StructType([\n",
    "        StructField(\"pais_id\", IntegerType(), False),\n",
    "        StructField(\"equipo\", StringType(), False),\n",
    "        StructField(\"sigla\", StringType(), False)\n",
    "    ]),\n",
    "    \"resultados\": StructType([\n",
    "        StructField(\"resultado_id\", IntegerType(), False),\n",
    "        StructField(\"medalla\", StringType(), False),\n",
    "        StructField(\"deportista_id\", IntegerType(), False),\n",
    "        StructField(\"juego_id\", IntegerType(), False),\n",
    "        StructField(\"evento_id\", IntegerType(), False)\n",
    "    ])\n",
    "}"
   ]
  },
  {
   "cell_type": "code",
   "execution_count": 49,
   "id": "bca3c94d",
   "metadata": {},
   "outputs": [],
   "source": [
    "# Dataframes\n",
    "\n",
    "dp1 = sql_context.read.schema(schemas['deportista']).option(\"header\", \"true\").csv(f\"{data_dir}/deportista.csv\")\n",
    "dp2 = sql_context.read.schema(schemas['deportista']).option(\"header\", \"false\").csv(f\"{data_dir}/deportista2.csv\")\n",
    "\n",
    "dataframes = {\n",
    "    \"deporte\": sql_context.read.schema(schemas['deporte']).option(\"header\", \"true\").csv(f\"{data_dir}/deporte.csv\"),\n",
    "    \"deportista\": dp1.union(dp2),\n",
    "    \"evento\": sql_context.read.schema(schemas['evento']).option(\"header\", \"true\").csv(f\"{data_dir}/evento.csv\"),\n",
    "    \"juegos\": sql_context.read.schema(schemas['juegos']).option(\"header\", \"true\").csv(f\"{data_dir}/juegos.csv\"),\n",
    "    \"paises\": sql_context.read.schema(schemas['paises']).option(\"header\", \"true\").csv(f\"{data_dir}/paises.csv\"),\n",
    "    \"resultados\": sql_context.read.schema(schemas['resultados']).option(\"header\", \"true\").csv(f\"{data_dir}/resultados.csv\")\n",
    "}\n",
    "del(dp1, dp2)"
   ]
  },
  {
   "cell_type": "code",
   "execution_count": 53,
   "id": "37f9419d",
   "metadata": {},
   "outputs": [
    {
     "name": "stdout",
     "output_type": "stream",
     "text": [
      "+----------+-------------+\n",
      "|deporte_id|      deporte|\n",
      "+----------+-------------+\n",
      "|         1|   Basketball|\n",
      "|         2|         Judo|\n",
      "|         3|     Football|\n",
      "|         4|   Tug-Of-War|\n",
      "|         5|Speed Skating|\n",
      "+----------+-------------+\n",
      "only showing top 5 rows\n",
      "\n"
     ]
    }
   ],
   "source": [
    "dataframes['deporte'].show(5)"
   ]
  },
  {
   "cell_type": "code",
   "execution_count": 54,
   "id": "ada7a2bf",
   "metadata": {},
   "outputs": [
    {
     "name": "stdout",
     "output_type": "stream",
     "text": [
      "+-------------+--------------------+------+----+------+----+---------+\n",
      "|deportista_id|              nombre|genero|edad|altura|peso|equipo_id|\n",
      "+-------------+--------------------+------+----+------+----+---------+\n",
      "|            1|           A Dijiang|     1|  24|   180|80.0|      199|\n",
      "|            2|            A Lamusi|     1|  23|   170|60.0|      199|\n",
      "|            3| Gunnar Nielsen Aaby|     1|  24|     0| 0.0|      273|\n",
      "|            4|Edgar Lindenau Aabye|     1|  34|     0| 0.0|      278|\n",
      "|            5|Christine Jacoba ...|     2|  21|   185|82.0|      705|\n",
      "+-------------+--------------------+------+----+------+----+---------+\n",
      "only showing top 5 rows\n",
      "\n"
     ]
    }
   ],
   "source": [
    "dataframes['deportista'].show(5)"
   ]
  },
  {
   "cell_type": "code",
   "execution_count": 55,
   "id": "85f03987",
   "metadata": {},
   "outputs": [
    {
     "name": "stdout",
     "output_type": "stream",
     "text": [
      "+---------+--------------------+----------+\n",
      "|evento_id|              evento|deporte_id|\n",
      "+---------+--------------------+----------+\n",
      "|        1|Basketball Men's ...|         1|\n",
      "|        2|Judo Men's Extra-...|         2|\n",
      "|        3|Football Men's Fo...|         3|\n",
      "|        4|Tug-Of-War Men's ...|         4|\n",
      "|        5|Speed Skating Wom...|         5|\n",
      "+---------+--------------------+----------+\n",
      "only showing top 5 rows\n",
      "\n"
     ]
    }
   ],
   "source": [
    "dataframes['evento'].show(5)"
   ]
  },
  {
   "cell_type": "code",
   "execution_count": 56,
   "id": "524d6b3f",
   "metadata": {},
   "outputs": [
    {
     "name": "stdout",
     "output_type": "stream",
     "text": [
      "+--------+------------+----+---------+---------+\n",
      "|juego_id|nombre_juego|anio|temporada|   ciudad|\n",
      "+--------+------------+----+---------+---------+\n",
      "|       1| 1896 Verano|1896|   Verano|   Athina|\n",
      "|       2| 1900 Verano|1900|   Verano|    Paris|\n",
      "|       3| 1904 Verano|1904|   Verano|St. Louis|\n",
      "|       4| 1906 Verano|1906|   Verano|   Athina|\n",
      "|       5| 1908 Verano|1908|   Verano|   London|\n",
      "+--------+------------+----+---------+---------+\n",
      "only showing top 5 rows\n",
      "\n"
     ]
    },
    {
     "name": "stderr",
     "output_type": "stream",
     "text": [
      "21/08/21 01:34:53 WARN CSVHeaderChecker: CSV header does not conform to the schema.\n",
      " Header: , nombre_juego, annio, temporada, ciudad\n",
      " Schema: juego_id, nombre_juego, anio, temporada, ciudad\n",
      "Expected: juego_id but found: \n",
      "CSV file: file:///home/jovyan/work/files/juegos.csv\n"
     ]
    }
   ],
   "source": [
    "dataframes['juegos'].show(5)"
   ]
  },
  {
   "cell_type": "code",
   "execution_count": 57,
   "id": "717da656",
   "metadata": {},
   "outputs": [
    {
     "name": "stdout",
     "output_type": "stream",
     "text": [
      "+-------+--------------------+-----+\n",
      "|pais_id|              equipo|sigla|\n",
      "+-------+--------------------+-----+\n",
      "|      1|         30. Februar|  AUT|\n",
      "|      2|A North American ...|  MEX|\n",
      "|      3|           Acipactli|  MEX|\n",
      "|      4|             Acturus|  ARG|\n",
      "|      5|         Afghanistan|  AFG|\n",
      "+-------+--------------------+-----+\n",
      "only showing top 5 rows\n",
      "\n"
     ]
    },
    {
     "name": "stderr",
     "output_type": "stream",
     "text": [
      "21/08/21 01:35:04 WARN CSVHeaderChecker: CSV header does not conform to the schema.\n",
      " Header: id, equipo, sigla\n",
      " Schema: pais_id, equipo, sigla\n",
      "Expected: pais_id but found: id\n",
      "CSV file: file:///home/jovyan/work/files/paises.csv\n"
     ]
    }
   ],
   "source": [
    "dataframes['paises'].show(5)"
   ]
  },
  {
   "cell_type": "code",
   "execution_count": 58,
   "id": "e2bb21af",
   "metadata": {},
   "outputs": [
    {
     "name": "stdout",
     "output_type": "stream",
     "text": [
      "+------------+-------+-------------+--------+---------+\n",
      "|resultado_id|medalla|deportista_id|juego_id|evento_id|\n",
      "+------------+-------+-------------+--------+---------+\n",
      "|           1|     NA|            1|      39|        1|\n",
      "|           2|     NA|            2|      49|        2|\n",
      "|           3|     NA|            3|       7|        3|\n",
      "|           4|   Gold|            4|       2|        4|\n",
      "|           5|     NA|            5|      36|        5|\n",
      "+------------+-------+-------------+--------+---------+\n",
      "only showing top 5 rows\n",
      "\n"
     ]
    }
   ],
   "source": [
    "dataframes['resultados'].show(5)"
   ]
  },
  {
   "cell_type": "code",
   "execution_count": 59,
   "id": "eb58ed28",
   "metadata": {},
   "outputs": [],
   "source": [
    "spark.stop()"
   ]
  }
 ],
 "metadata": {
  "kernelspec": {
   "display_name": "Python 3 (ipykernel)",
   "language": "python",
   "name": "python3"
  },
  "language_info": {
   "codemirror_mode": {
    "name": "ipython",
    "version": 3
   },
   "file_extension": ".py",
   "mimetype": "text/x-python",
   "name": "python",
   "nbconvert_exporter": "python",
   "pygments_lexer": "ipython3",
   "version": "3.9.6"
  }
 },
 "nbformat": 4,
 "nbformat_minor": 5
}
