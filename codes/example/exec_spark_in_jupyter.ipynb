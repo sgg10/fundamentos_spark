{
 "cells": [
  {
   "cell_type": "code",
   "execution_count": 1,
   "id": "e1cf3a6b",
   "metadata": {},
   "outputs": [],
   "source": [
    "from pyspark import SparkContext\n",
    "from pyspark.sql import SparkSession"
   ]
  },
  {
   "cell_type": "markdown",
   "id": "3ceffda9",
   "metadata": {},
   "source": [
    "# Diferencias entre SparkContext y SparkSession\n",
    "\n",
    "- SparkContext: en versiones de Spark previas a la 2, tenemos un conjunto de funciones, los cuales eran los mecanismos que tenemos para interactuar con Spark\n",
    "\n",
    "- SparkSession: a partir de la version 2, se agrega el SparkSession. Es una versión mas generica y engloba todos los contextos, pero ademas nos permite tener ciertas funcionalidades adicionales. Como por ejemplo, mejores formas de configuración que no estan presentes en versiones anteriores, tambien podemos convertir contextos en sesiones, por lo que no hay que modificar tantas cosas al trabajar con codigos de versiones previas."
   ]
  },
  {
   "cell_type": "code",
   "execution_count": 7,
   "id": "742a9b90",
   "metadata": {},
   "outputs": [],
   "source": [
    "spark = SparkSession.builder\\\n",
    "            .master(\"local\")\\\n",
    "            .appName(\"miPrimeraSesion\")\\\n",
    "            .getOrCreate()"
   ]
  },
  {
   "cell_type": "markdown",
   "id": "c52029ae",
   "metadata": {},
   "source": [
    "- Es importante indicar que vamos a cerrar la sesión porque si no, esta va a permanecer abierta y consumiendo recuersos"
   ]
  },
  {
   "cell_type": "code",
   "execution_count": 8,
   "id": "6a3353bc",
   "metadata": {},
   "outputs": [],
   "source": [
    "spark.stop()"
   ]
  },
  {
   "cell_type": "code",
   "execution_count": 10,
   "id": "3966e1b0",
   "metadata": {},
   "outputs": [],
   "source": [
    "sc = SparkContext(master=\"local\", appName=\"miPrimerContexto\")"
   ]
  },
  {
   "cell_type": "code",
   "execution_count": 11,
   "id": "90bbab9d",
   "metadata": {},
   "outputs": [],
   "source": [
    "spark2 = SparkSession(sc)"
   ]
  },
  {
   "cell_type": "code",
   "execution_count": 12,
   "id": "e2083ded",
   "metadata": {},
   "outputs": [
    {
     "data": {
      "text/html": [
       "\n",
       "            <div>\n",
       "                <p><b>SparkSession - in-memory</b></p>\n",
       "                \n",
       "        <div>\n",
       "            <p><b>SparkContext</b></p>\n",
       "\n",
       "            <p><a href=\"http://a1c7a66800da:4040\">Spark UI</a></p>\n",
       "\n",
       "            <dl>\n",
       "              <dt>Version</dt>\n",
       "                <dd><code>v3.1.2</code></dd>\n",
       "              <dt>Master</dt>\n",
       "                <dd><code>local</code></dd>\n",
       "              <dt>AppName</dt>\n",
       "                <dd><code>miPrimerContexto</code></dd>\n",
       "            </dl>\n",
       "        </div>\n",
       "        \n",
       "            </div>\n",
       "        "
      ],
      "text/plain": [
       "<pyspark.sql.session.SparkSession at 0x7f1acc45adf0>"
      ]
     },
     "execution_count": 12,
     "metadata": {},
     "output_type": "execute_result"
    }
   ],
   "source": [
    "spark2"
   ]
  },
  {
   "cell_type": "code",
   "execution_count": 13,
   "id": "d470152d",
   "metadata": {},
   "outputs": [],
   "source": [
    "spark2.stop()"
   ]
  }
 ],
 "metadata": {
  "kernelspec": {
   "display_name": "Python 3 (ipykernel)",
   "language": "python",
   "name": "python3"
  },
  "language_info": {
   "codemirror_mode": {
    "name": "ipython",
    "version": 3
   },
   "file_extension": ".py",
   "mimetype": "text/x-python",
   "name": "python",
   "nbconvert_exporter": "python",
   "pygments_lexer": "ipython3",
   "version": "3.9.6"
  }
 },
 "nbformat": 4,
 "nbformat_minor": 5
}
