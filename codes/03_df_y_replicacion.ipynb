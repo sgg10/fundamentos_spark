{
 "cells": [
  {
   "cell_type": "code",
   "execution_count": 45,
   "id": "6fc4719a",
   "metadata": {},
   "outputs": [],
   "source": [
    "import os\n",
    "from pyspark import SparkContext, SQLContext\n",
    "from pyspark.sql import SparkSession\n",
    "from pyspark.sql.functions import (\n",
    "    col,\n",
    "    sum as _sum,\n",
    "    avg as _avg\n",
    ")\n",
    "from schemas import (\n",
    "    base,\n",
    "    data_dir,\n",
    "    get_schemas,\n",
    "    load_dataframes_from_schemas\n",
    ")"
   ]
  },
  {
   "cell_type": "markdown",
   "id": "790c3a15",
   "metadata": {},
   "source": [
    "# Spark Context"
   ]
  },
  {
   "cell_type": "code",
   "execution_count": 8,
   "id": "c55cb3db",
   "metadata": {},
   "outputs": [],
   "source": [
    "spark = SparkContext(master=\"local\", appName=\"Replicacion\")\n",
    "sql_context = SQLContext(spark)"
   ]
  },
  {
   "cell_type": "markdown",
   "id": "a0e81643",
   "metadata": {},
   "source": [
    "# Load Dataframes"
   ]
  },
  {
   "cell_type": "code",
   "execution_count": 11,
   "id": "40446bd6",
   "metadata": {},
   "outputs": [],
   "source": [
    "dataframes = load_dataframes_from_schemas(sql_context)"
   ]
  },
  {
   "cell_type": "code",
   "execution_count": 12,
   "id": "74acfae0",
   "metadata": {},
   "outputs": [
    {
     "data": {
      "text/plain": [
       "dict_keys(['deporte', 'deportista', 'evento', 'juegos', 'paises', 'resultados'])"
      ]
     },
     "execution_count": 12,
     "metadata": {},
     "output_type": "execute_result"
    }
   ],
   "source": [
    "dataframes.keys()"
   ]
  },
  {
   "cell_type": "markdown",
   "id": "5495f21f",
   "metadata": {},
   "source": [
    "# Class - DF and replication"
   ]
  },
  {
   "cell_type": "code",
   "execution_count": 31,
   "id": "722e0314",
   "metadata": {},
   "outputs": [],
   "source": [
    "medallas_x_anio = dataframes[\"deportista\"].join(\n",
    "    dataframes[\"resultados\"],\n",
    "    dataframes[\"deportista\"].deportista_id == dataframes[\"resultados\"].deportista_id,\n",
    "    \"left\"\n",
    ").join(\n",
    "    dataframes[\"juegos\"],\n",
    "    dataframes[\"juegos\"].juego_id == dataframes[\"resultados\"].juego_id,\n",
    "    \"left\"\n",
    ").join(\n",
    "    dataframes[\"paises\"],\n",
    "    dataframes[\"paises\"].pais_id == dataframes[\"deportista\"].equipo_id,\n",
    "    \"left\"\n",
    ").join(\n",
    "    dataframes[\"evento\"],\n",
    "    dataframes[\"evento\"].evento_id == dataframes[\"resultados\"].evento_id,\n",
    "    \"left\"\n",
    ").join(\n",
    "    dataframes[\"deporte\"],\n",
    "    dataframes[\"evento\"].deporte_id == dataframes[\"deporte\"].deporte_id,\n",
    "    \"left\"\n",
    ").select(\n",
    "    \"sigla\", \"anio\", \"medalla\",\n",
    "    dataframes[\"evento\"].evento.alias(\"Nombre subdisciplina\"),\n",
    "    dataframes[\"deporte\"].deporte.alias(\"Nombre disciplina\"),\n",
    "    dataframes[\"deportista\"].nombre\n",
    ")\n"
   ]
  },
  {
   "cell_type": "code",
   "execution_count": 32,
   "id": "88f40394",
   "metadata": {},
   "outputs": [
    {
     "name": "stderr",
     "output_type": "stream",
     "text": [
      "\r",
      "[Stage 20:>                                                         (0 + 1) / 1]\r",
      "21/08/21 17:29:22 WARN CSVHeaderChecker: CSV header does not conform to the schema.\n",
      " Header: , annio\n",
      " Schema: juego_id, anio\n",
      "Expected: juego_id but found: \n",
      "CSV file: file:///home/jovyan/work/files/juegos.csv\n",
      "\r",
      "                                                                                \r",
      "21/08/21 17:29:22 WARN CSVHeaderChecker: CSV header does not conform to the schema.\n",
      " Header: id, sigla\n",
      " Schema: pais_id, sigla\n",
      "Expected: pais_id but found: id\n",
      "CSV file: file:///home/jovyan/work/files/paises.csv\n"
     ]
    },
    {
     "name": "stdout",
     "output_type": "stream",
     "text": [
      "+-----+----+-------+--------------------+--------------------+--------------------+\n",
      "|sigla|anio|medalla|Nombre subdisciplina|   Nombre disciplina|              nombre|\n",
      "+-----+----+-------+--------------------+--------------------+--------------------+\n",
      "|  CHN|1992|     NA|Basketball Men's ...|          Basketball|           A Dijiang|\n",
      "|  CHN|2012|     NA|Judo Men's Extra-...|                Judo|            A Lamusi|\n",
      "|  DEN|1920|     NA|Football Men's Fo...|            Football| Gunnar Nielsen Aaby|\n",
      "|  SWE|1900|   Gold|Tug-Of-War Men's ...|          Tug-Of-War|Edgar Lindenau Aabye|\n",
      "|  NED|1994|     NA|Speed Skating Wom...|       Speed Skating|Christine Jacoba ...|\n",
      "|  NED|1994|     NA|Speed Skating Wom...|       Speed Skating|Christine Jacoba ...|\n",
      "|  NED|1992|     NA|Speed Skating Wom...|       Speed Skating|Christine Jacoba ...|\n",
      "|  NED|1992|     NA|Speed Skating Wom...|       Speed Skating|Christine Jacoba ...|\n",
      "|  NED|1988|     NA|Speed Skating Wom...|       Speed Skating|Christine Jacoba ...|\n",
      "|  NED|1988|     NA|Speed Skating Wom...|       Speed Skating|Christine Jacoba ...|\n",
      "|  USA|1994|     NA|Cross Country Ski...|Cross Country Skiing|     Per Knut Aaland|\n",
      "|  USA|1994|     NA|Cross Country Ski...|Cross Country Skiing|     Per Knut Aaland|\n",
      "|  USA|1994|     NA|Cross Country Ski...|Cross Country Skiing|     Per Knut Aaland|\n",
      "|  USA|1994|     NA|Cross Country Ski...|Cross Country Skiing|     Per Knut Aaland|\n",
      "|  USA|1992|     NA|Cross Country Ski...|Cross Country Skiing|     Per Knut Aaland|\n",
      "|  USA|1992|     NA|Cross Country Ski...|Cross Country Skiing|     Per Knut Aaland|\n",
      "|  USA|1992|     NA|Cross Country Ski...|Cross Country Skiing|     Per Knut Aaland|\n",
      "|  USA|1992|     NA|Cross Country Ski...|Cross Country Skiing|     Per Knut Aaland|\n",
      "|  USA|1994|     NA|Cross Country Ski...|Cross Country Skiing|        John Aalberg|\n",
      "|  USA|1994|     NA|Cross Country Ski...|Cross Country Skiing|        John Aalberg|\n",
      "+-----+----+-------+--------------------+--------------------+--------------------+\n",
      "only showing top 20 rows\n",
      "\n"
     ]
    }
   ],
   "source": [
    "medallas_x_anio.show()"
   ]
  },
  {
   "cell_type": "code",
   "execution_count": 40,
   "id": "9862db6a",
   "metadata": {},
   "outputs": [],
   "source": [
    "medallas_x_anio_2 = (medallas_x_anio\n",
    "     .filter(medallas_x_anio.medalla != \"NA\")\n",
    "     .sort(\"anio\")\n",
    "     .groupBy(\"sigla\", \"anio\", \"Nombre subdisciplina\")\n",
    "     .count()\n",
    ")"
   ]
  },
  {
   "cell_type": "code",
   "execution_count": 41,
   "id": "8160ee02",
   "metadata": {},
   "outputs": [
    {
     "name": "stdout",
     "output_type": "stream",
     "text": [
      "root\n",
      " |-- sigla: string (nullable = true)\n",
      " |-- anio: integer (nullable = true)\n",
      " |-- Nombre subdisciplina: string (nullable = true)\n",
      " |-- count: long (nullable = false)\n",
      "\n"
     ]
    }
   ],
   "source": [
    "medallas_x_anio_2.printSchema()"
   ]
  },
  {
   "cell_type": "code",
   "execution_count": 42,
   "id": "2de64bdb",
   "metadata": {},
   "outputs": [
    {
     "name": "stderr",
     "output_type": "stream",
     "text": [
      "21/08/21 17:35:17 WARN CSVHeaderChecker: CSV header does not conform to the schema.\n",
      " Header: , annio\n",
      " Schema: juego_id, anio\n",
      "Expected: juego_id but found: \n",
      "CSV file: file:///home/jovyan/work/files/juegos.csv\n",
      "21/08/21 17:35:17 WARN CSVHeaderChecker: CSV header does not conform to the schema.\n",
      " Header: id, sigla\n",
      " Schema: pais_id, sigla\n",
      "Expected: pais_id but found: id\n",
      "CSV file: file:///home/jovyan/work/files/paises.csv\n"
     ]
    },
    {
     "name": "stdout",
     "output_type": "stream",
     "text": [
      "+-----+----+--------------------+-----+\n",
      "|sigla|anio|Nombre subdisciplina|count|\n",
      "+-----+----+--------------------+-----+\n",
      "|  MEX|1984|Wrestling Men's F...|    1|\n",
      "|  FIN|1960|Cross Country Ski...|    4|\n",
      "|  CAN|2010|Snowboarding Men'...|    1|\n",
      "|  YUG|1984|Water Polo Men's ...|   13|\n",
      "|  RUS|2012|Athletics Women's...|    6|\n",
      "+-----+----+--------------------+-----+\n",
      "only showing top 5 rows\n",
      "\n"
     ]
    }
   ],
   "source": [
    "medallas_x_anio_2.show(5)"
   ]
  },
  {
   "cell_type": "code",
   "execution_count": 46,
   "id": "63a645eb",
   "metadata": {},
   "outputs": [
    {
     "name": "stderr",
     "output_type": "stream",
     "text": [
      "21/08/21 17:38:57 WARN CSVHeaderChecker: CSV header does not conform to the schema.\n",
      " Header: , annio\n",
      " Schema: juego_id, anio\n",
      "Expected: juego_id but found: \n",
      "CSV file: file:///home/jovyan/work/files/juegos.csv\n",
      "21/08/21 17:38:57 WARN CSVHeaderChecker: CSV header does not conform to the schema.\n",
      " Header: id, sigla\n",
      " Schema: pais_id, sigla\n",
      "Expected: pais_id but found: id\n",
      "CSV file: file:///home/jovyan/work/files/paises.csv\n",
      "[Stage 59:=====================================================>(198 + 1) / 200]\r"
     ]
    },
    {
     "name": "stdout",
     "output_type": "stream",
     "text": [
      "+-----+----+-----------------+------------------+\n",
      "|sigla|anio|Total de medallas| Promedio medallas|\n",
      "+-----+----+-----------------+------------------+\n",
      "|  USA|2012|              248|2.7252747252747254|\n",
      "|  FRA|2006|               15|1.6666666666666667|\n",
      "|  KOR|2010|               18|               1.5|\n",
      "|  FIN|1988|               38|               3.8|\n",
      "|  BLR|2000|               15|               1.5|\n",
      "|  VEN|2012|                1|               1.0|\n",
      "|  FRA|1948|               77|2.3333333333333335|\n",
      "|  GBR|2000|               55|1.9642857142857142|\n",
      "|  FRG|1994|                6|               1.0|\n",
      "|  JPN|1932|               31|2.5833333333333335|\n",
      "|  QAT|2012|                2|               1.0|\n",
      "|  KOR|1972|                1|               1.0|\n",
      "|  NED|1972|               15|1.3636363636363635|\n",
      "|  GER|1932|               57|              2.28|\n",
      "|  NZL|1988|               24|1.8461538461538463|\n",
      "|  AUS|1972|               20|1.1764705882352942|\n",
      "|  THA|1988|                1|               1.0|\n",
      "|  BAH|2008|                7|               3.5|\n",
      "|  POR|1988|                1|               1.0|\n",
      "|  POR|2012|                2|               2.0|\n",
      "+-----+----+-----------------+------------------+\n",
      "only showing top 20 rows\n",
      "\n"
     ]
    },
    {
     "name": "stderr",
     "output_type": "stream",
     "text": [
      "\r",
      "                                                                                \r"
     ]
    }
   ],
   "source": [
    "(medallas_x_anio_2\n",
    "    .groupBy(\"sigla\", \"anio\")\n",
    "    .agg(\n",
    "        _sum(\"count\").alias(\"Total de medallas\"),\n",
    "        _avg(\"count\").alias(\"Promedio medallas\")\n",
    "    )\n",
    "    .show()\n",
    ")"
   ]
  },
  {
   "cell_type": "code",
   "execution_count": null,
   "id": "f2a26e5f",
   "metadata": {},
   "outputs": [],
   "source": []
  }
 ],
 "metadata": {
  "kernelspec": {
   "display_name": "Python 3 (ipykernel)",
   "language": "python",
   "name": "python3"
  },
  "language_info": {
   "codemirror_mode": {
    "name": "ipython",
    "version": 3
   },
   "file_extension": ".py",
   "mimetype": "text/x-python",
   "name": "python",
   "nbconvert_exporter": "python",
   "pygments_lexer": "ipython3",
   "version": "3.9.6"
  }
 },
 "nbformat": 4,
 "nbformat_minor": 5
}
