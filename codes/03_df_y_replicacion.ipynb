{
 "cells": [
  {
   "cell_type": "code",
   "execution_count": 1,
   "id": "bf52a331",
   "metadata": {},
   "outputs": [],
   "source": [
    "import os\n",
    "from pyspark import SparkContext, SQLContext\n",
    "from pyspark.sql import SparkSession\n",
    "from pyspark.sql.functions import (\n",
    "    col,\n",
    "    sum as _sum,\n",
    "    avg as _avg,\n",
    "    udf\n",
    ")\n",
    "from pyspark.sql.types import (\n",
    "    StructType,\n",
    "    StructField,\n",
    "    IntegerType,\n",
    "    StringType,\n",
    "    FloatType,\n",
    "    Row\n",
    ")\n",
    "from schemas import (\n",
    "    base,\n",
    "    data_dir,\n",
    "    get_schemas,\n",
    "    load_dataframes_from_schemas,\n",
    ")"
   ]
  },
  {
   "cell_type": "markdown",
   "id": "5d7e0ebf",
   "metadata": {},
   "source": [
    "# Spark Context"
   ]
  },
  {
   "cell_type": "code",
   "execution_count": 2,
   "id": "d578dddc",
   "metadata": {},
   "outputs": [
    {
     "name": "stderr",
     "output_type": "stream",
     "text": [
      "WARNING: An illegal reflective access operation has occurred\n",
      "WARNING: Illegal reflective access by org.apache.spark.unsafe.Platform (file:/usr/local/spark-3.1.2-bin-hadoop3.2/jars/spark-unsafe_2.12-3.1.2.jar) to constructor java.nio.DirectByteBuffer(long,int)\n",
      "WARNING: Please consider reporting this to the maintainers of org.apache.spark.unsafe.Platform\n",
      "WARNING: Use --illegal-access=warn to enable warnings of further illegal reflective access operations\n",
      "WARNING: All illegal access operations will be denied in a future release\n",
      "21/08/21 19:47:03 WARN NativeCodeLoader: Unable to load native-hadoop library for your platform... using builtin-java classes where applicable\n",
      "Using Spark's default log4j profile: org/apache/spark/log4j-defaults.properties\n",
      "Setting default log level to \"WARN\".\n",
      "To adjust logging level use sc.setLogLevel(newLevel). For SparkR, use setLogLevel(newLevel).\n"
     ]
    }
   ],
   "source": [
    "spark = SparkContext(master=\"local\", appName=\"Replicacion\")\n",
    "sql_context = SQLContext(spark)"
   ]
  },
  {
   "cell_type": "markdown",
   "id": "a1faa8f3",
   "metadata": {},
   "source": [
    "# Load Dataframes"
   ]
  },
  {
   "cell_type": "code",
   "execution_count": 3,
   "id": "98968bf7",
   "metadata": {},
   "outputs": [],
   "source": [
    "dataframes = load_dataframes_from_schemas(sql_context)"
   ]
  },
  {
   "cell_type": "code",
   "execution_count": 4,
   "id": "7001ff7f",
   "metadata": {},
   "outputs": [
    {
     "data": {
      "text/plain": [
       "dict_keys(['deporte', 'deportista', 'evento', 'juegos', 'paises', 'resultados', 'deportista_error'])"
      ]
     },
     "execution_count": 4,
     "metadata": {},
     "output_type": "execute_result"
    }
   ],
   "source": [
    "dataframes.keys()"
   ]
  },
  {
   "cell_type": "markdown",
   "id": "98c7d2cd",
   "metadata": {},
   "source": [
    "# Class - DF and replication"
   ]
  },
  {
   "cell_type": "code",
   "execution_count": 5,
   "id": "db1f1beb",
   "metadata": {},
   "outputs": [],
   "source": [
    "medallas_x_anio = dataframes[\"deportista\"].join(\n",
    "    dataframes[\"resultados\"],\n",
    "    dataframes[\"deportista\"].deportista_id == dataframes[\"resultados\"].deportista_id,\n",
    "    \"left\"\n",
    ").join(\n",
    "    dataframes[\"juegos\"],\n",
    "    dataframes[\"juegos\"].juego_id == dataframes[\"resultados\"].juego_id,\n",
    "    \"left\"\n",
    ").join(\n",
    "    dataframes[\"paises\"],\n",
    "    dataframes[\"paises\"].pais_id == dataframes[\"deportista\"].equipo_id,\n",
    "    \"left\"\n",
    ").join(\n",
    "    dataframes[\"evento\"],\n",
    "    dataframes[\"evento\"].evento_id == dataframes[\"resultados\"].evento_id,\n",
    "    \"left\"\n",
    ").join(\n",
    "    dataframes[\"deporte\"],\n",
    "    dataframes[\"evento\"].deporte_id == dataframes[\"deporte\"].deporte_id,\n",
    "    \"left\"\n",
    ").select(\n",
    "    \"sigla\", \"anio\", \"medalla\",\n",
    "    dataframes[\"evento\"].evento.alias(\"Nombre subdisciplina\"),\n",
    "    dataframes[\"deporte\"].deporte.alias(\"Nombre disciplina\"),\n",
    "    dataframes[\"deportista\"].nombre\n",
    ")\n"
   ]
  },
  {
   "cell_type": "code",
   "execution_count": 6,
   "id": "13757d28",
   "metadata": {},
   "outputs": [
    {
     "name": "stderr",
     "output_type": "stream",
     "text": [
      "21/08/21 19:47:09 WARN CSVHeaderChecker: CSV header does not conform to the schema.\n",
      " Header: id, sigla\n",
      " Schema: pais_id, sigla\n",
      "Expected: pais_id but found: id\n",
      "CSV file: file:///home/jovyan/work/files/paises.csv\n",
      "21/08/21 19:47:09 WARN CSVHeaderChecker: CSV header does not conform to the schema.\n",
      " Header: , annio\n",
      " Schema: juego_id, anio\n",
      "Expected: juego_id but found: \n",
      "CSV file: file:///home/jovyan/work/files/juegos.csv\n"
     ]
    },
    {
     "name": "stdout",
     "output_type": "stream",
     "text": [
      "+-----+----+-------+--------------------+--------------------+--------------------+\n",
      "|sigla|anio|medalla|Nombre subdisciplina|   Nombre disciplina|              nombre|\n",
      "+-----+----+-------+--------------------+--------------------+--------------------+\n",
      "|  CHN|1992|     NA|Basketball Men's ...|          Basketball|           A Dijiang|\n",
      "|  CHN|2012|     NA|Judo Men's Extra-...|                Judo|            A Lamusi|\n",
      "|  DEN|1920|     NA|Football Men's Fo...|            Football| Gunnar Nielsen Aaby|\n",
      "|  SWE|1900|   Gold|Tug-Of-War Men's ...|          Tug-Of-War|Edgar Lindenau Aabye|\n",
      "|  NED|1994|     NA|Speed Skating Wom...|       Speed Skating|Christine Jacoba ...|\n",
      "|  NED|1994|     NA|Speed Skating Wom...|       Speed Skating|Christine Jacoba ...|\n",
      "|  NED|1992|     NA|Speed Skating Wom...|       Speed Skating|Christine Jacoba ...|\n",
      "|  NED|1992|     NA|Speed Skating Wom...|       Speed Skating|Christine Jacoba ...|\n",
      "|  NED|1988|     NA|Speed Skating Wom...|       Speed Skating|Christine Jacoba ...|\n",
      "|  NED|1988|     NA|Speed Skating Wom...|       Speed Skating|Christine Jacoba ...|\n",
      "|  USA|1994|     NA|Cross Country Ski...|Cross Country Skiing|     Per Knut Aaland|\n",
      "|  USA|1994|     NA|Cross Country Ski...|Cross Country Skiing|     Per Knut Aaland|\n",
      "|  USA|1994|     NA|Cross Country Ski...|Cross Country Skiing|     Per Knut Aaland|\n",
      "|  USA|1994|     NA|Cross Country Ski...|Cross Country Skiing|     Per Knut Aaland|\n",
      "|  USA|1992|     NA|Cross Country Ski...|Cross Country Skiing|     Per Knut Aaland|\n",
      "|  USA|1992|     NA|Cross Country Ski...|Cross Country Skiing|     Per Knut Aaland|\n",
      "|  USA|1992|     NA|Cross Country Ski...|Cross Country Skiing|     Per Knut Aaland|\n",
      "|  USA|1992|     NA|Cross Country Ski...|Cross Country Skiing|     Per Knut Aaland|\n",
      "|  USA|1994|     NA|Cross Country Ski...|Cross Country Skiing|        John Aalberg|\n",
      "|  USA|1994|     NA|Cross Country Ski...|Cross Country Skiing|        John Aalberg|\n",
      "+-----+----+-------+--------------------+--------------------+--------------------+\n",
      "only showing top 20 rows\n",
      "\n"
     ]
    }
   ],
   "source": [
    "medallas_x_anio.show()"
   ]
  },
  {
   "cell_type": "code",
   "execution_count": 7,
   "id": "b44a82a3",
   "metadata": {},
   "outputs": [],
   "source": [
    "medallas_x_anio_2 = (medallas_x_anio\n",
    "     .filter(medallas_x_anio.medalla != \"NA\")\n",
    "     .sort(\"anio\")\n",
    "     .groupBy(\"sigla\", \"anio\", \"Nombre subdisciplina\")\n",
    "     .count()\n",
    ")"
   ]
  },
  {
   "cell_type": "code",
   "execution_count": 8,
   "id": "04558bd8",
   "metadata": {},
   "outputs": [
    {
     "name": "stdout",
     "output_type": "stream",
     "text": [
      "root\n",
      " |-- sigla: string (nullable = true)\n",
      " |-- anio: integer (nullable = true)\n",
      " |-- Nombre subdisciplina: string (nullable = true)\n",
      " |-- count: long (nullable = false)\n",
      "\n"
     ]
    }
   ],
   "source": [
    "medallas_x_anio_2.printSchema()"
   ]
  },
  {
   "cell_type": "code",
   "execution_count": 9,
   "id": "6e656634",
   "metadata": {},
   "outputs": [
    {
     "name": "stderr",
     "output_type": "stream",
     "text": [
      "21/08/21 19:47:10 WARN CSVHeaderChecker: CSV header does not conform to the schema.\n",
      " Header: , annio\n",
      " Schema: juego_id, anio\n",
      "Expected: juego_id but found: \n",
      "CSV file: file:///home/jovyan/work/files/juegos.csv\n",
      "21/08/21 19:47:10 WARN CSVHeaderChecker: CSV header does not conform to the schema.\n",
      " Header: id, sigla\n",
      " Schema: pais_id, sigla\n",
      "Expected: pais_id but found: id\n",
      "CSV file: file:///home/jovyan/work/files/paises.csv\n",
      "[Stage 11:>                                                         (0 + 1) / 1]\r"
     ]
    },
    {
     "name": "stdout",
     "output_type": "stream",
     "text": [
      "+-----+----+--------------------+-----+\n",
      "|sigla|anio|Nombre subdisciplina|count|\n",
      "+-----+----+--------------------+-----+\n",
      "|  MEX|1984|Wrestling Men's F...|    1|\n",
      "|  FIN|1960|Cross Country Ski...|    4|\n",
      "|  CAN|2010|Snowboarding Men'...|    1|\n",
      "|  YUG|1984|Water Polo Men's ...|   13|\n",
      "|  RUS|2012|Athletics Women's...|    6|\n",
      "+-----+----+--------------------+-----+\n",
      "only showing top 5 rows\n",
      "\n"
     ]
    },
    {
     "name": "stderr",
     "output_type": "stream",
     "text": [
      "\r",
      "                                                                                \r"
     ]
    }
   ],
   "source": [
    "medallas_x_anio_2.show(5)"
   ]
  },
  {
   "cell_type": "code",
   "execution_count": 10,
   "id": "c3da8d59",
   "metadata": {},
   "outputs": [
    {
     "name": "stderr",
     "output_type": "stream",
     "text": [
      "21/08/21 19:47:12 WARN CSVHeaderChecker: CSV header does not conform to the schema.\n",
      " Header: id, sigla\n",
      " Schema: pais_id, sigla\n",
      "Expected: pais_id but found: id\n",
      "CSV file: file:///home/jovyan/work/files/paises.csv\n",
      "21/08/21 19:47:12 WARN CSVHeaderChecker: CSV header does not conform to the schema.\n",
      " Header: , annio\n",
      " Schema: juego_id, anio\n",
      "Expected: juego_id but found: \n",
      "CSV file: file:///home/jovyan/work/files/juegos.csv\n",
      "                                                                                \r"
     ]
    },
    {
     "name": "stdout",
     "output_type": "stream",
     "text": [
      "+-----+----+-----------------+------------------+\n",
      "|sigla|anio|Total de medallas| Promedio medallas|\n",
      "+-----+----+-----------------+------------------+\n",
      "|  USA|2012|              248|2.7252747252747254|\n",
      "|  FRA|2006|               15|1.6666666666666667|\n",
      "|  KOR|2010|               18|               1.5|\n",
      "|  FIN|1988|               38|               3.8|\n",
      "|  BLR|2000|               15|               1.5|\n",
      "|  VEN|2012|                1|               1.0|\n",
      "|  FRA|1948|               77|2.3333333333333335|\n",
      "|  GBR|2000|               55|1.9642857142857142|\n",
      "|  FRG|1994|                6|               1.0|\n",
      "|  JPN|1932|               31|2.5833333333333335|\n",
      "|  QAT|2012|                2|               1.0|\n",
      "|  KOR|1972|                1|               1.0|\n",
      "|  NED|1972|               15|1.3636363636363635|\n",
      "|  GER|1932|               57|              2.28|\n",
      "|  NZL|1988|               24|1.8461538461538463|\n",
      "|  AUS|1972|               20|1.1764705882352942|\n",
      "|  THA|1988|                1|               1.0|\n",
      "|  BAH|2008|                7|               3.5|\n",
      "|  POR|1988|                1|               1.0|\n",
      "|  POR|2012|                2|               2.0|\n",
      "+-----+----+-----------------+------------------+\n",
      "only showing top 20 rows\n",
      "\n"
     ]
    }
   ],
   "source": [
    "(medallas_x_anio_2\n",
    "    .groupBy(\"sigla\", \"anio\")\n",
    "    .agg(\n",
    "        _sum(\"count\").alias(\"Total de medallas\"),\n",
    "        _avg(\"count\").alias(\"Promedio medallas\")\n",
    "    )\n",
    "    .show()\n",
    ")"
   ]
  },
  {
   "cell_type": "markdown",
   "id": "96094709",
   "metadata": {},
   "source": [
    "# SQL"
   ]
  },
  {
   "cell_type": "code",
   "execution_count": 11,
   "id": "24721f06",
   "metadata": {},
   "outputs": [],
   "source": [
    "dataframes[\"resultados\"].registerTempTable(\"resultados\")\n",
    "dataframes[\"deportista\"].registerTempTable(\"deportista\")\n",
    "dataframes[\"paises\"].registerTempTable(\"paises\")"
   ]
  },
  {
   "cell_type": "code",
   "execution_count": 12,
   "id": "06fa1c3c",
   "metadata": {},
   "outputs": [
    {
     "name": "stdout",
     "output_type": "stream",
     "text": [
      "+-------------+--------------------+------+----+------+-----+---------+\n",
      "|deportista_id|              nombre|genero|edad|altura| peso|equipo_id|\n",
      "+-------------+--------------------+------+----+------+-----+---------+\n",
      "|            1|           A Dijiang|     1|  24|   180| 80.0|      199|\n",
      "|            2|            A Lamusi|     1|  23|   170| 60.0|      199|\n",
      "|            3| Gunnar Nielsen Aaby|     1|  24|     0|  0.0|      273|\n",
      "|            4|Edgar Lindenau Aabye|     1|  34|     0|  0.0|      278|\n",
      "|            5|Christine Jacoba ...|     2|  21|   185| 82.0|      705|\n",
      "|            6|     Per Knut Aaland|     1|  31|   188| 75.0|     1096|\n",
      "|            7|        John Aalberg|     1|  31|   183| 72.0|     1096|\n",
      "|            8|Cornelia Cor Aalt...|     2|  18|   168|  0.0|      705|\n",
      "|            9|    Antti Sami Aalto|     1|  26|   186| 96.0|      350|\n",
      "|           10|Einar Ferdinand E...|     1|  26|     0|  0.0|      350|\n",
      "|           11|  Jorma Ilmari Aalto|     1|  22|   182| 76.5|      350|\n",
      "|           12|   Jyri Tapani Aalto|     1|  31|   172| 70.0|      350|\n",
      "|           13|  Minna Maarit Aalto|     2|  30|   159| 55.5|      350|\n",
      "|           14|Pirjo Hannele Aal...|     2|  32|   171| 65.0|      350|\n",
      "|           15|Arvo Ossian Aaltonen|     1|  22|     0|  0.0|      350|\n",
      "|           16|Juhamatti Tapio A...|     1|  28|   184| 85.0|      350|\n",
      "|           17|Paavo Johannes Aa...|     1|  28|   175| 64.0|      350|\n",
      "|           18|Timo Antero Aaltonen|     1|  31|   189|130.0|      350|\n",
      "|           19|Win Valdemar Aalt...|     1|  54|     0|  0.0|      350|\n",
      "|           20|  Kjetil Andr Aamodt|     1|  20|   176| 85.0|      742|\n",
      "+-------------+--------------------+------+----+------+-----+---------+\n",
      "only showing top 20 rows\n",
      "\n"
     ]
    }
   ],
   "source": [
    "sql_context.sql(\"\"\"SELECT * FROM deportista\"\"\").show()"
   ]
  },
  {
   "cell_type": "code",
   "execution_count": 13,
   "id": "5a7495be",
   "metadata": {},
   "outputs": [
    {
     "name": "stderr",
     "output_type": "stream",
     "text": [
      "21/08/21 19:47:19 WARN CSVHeaderChecker: CSV header does not conform to the schema.\n",
      " Header: id, equipo, sigla\n",
      " Schema: pais_id, equipo, sigla\n",
      "Expected: pais_id but found: id\n",
      "CSV file: file:///home/jovyan/work/files/paises.csv\n"
     ]
    },
    {
     "name": "stdout",
     "output_type": "stream",
     "text": [
      "+-------+--------+-----+\n",
      "|medalla|  equipo|sigla|\n",
      "+-------+--------+-----+\n",
      "|   Gold|Zimbabwe|  ZIM|\n",
      "|   Gold|Zimbabwe|  ZIM|\n",
      "|   Gold|Zimbabwe|  ZIM|\n",
      "| Silver|Zimbabwe|  ZIM|\n",
      "|   Gold|Zimbabwe|  ZIM|\n",
      "| Bronze|Zimbabwe|  ZIM|\n",
      "| Silver|Zimbabwe|  ZIM|\n",
      "|   Gold|Zimbabwe|  ZIM|\n",
      "| Silver|Zimbabwe|  ZIM|\n",
      "| Silver|Zimbabwe|  ZIM|\n",
      "|   Gold|Zimbabwe|  ZIM|\n",
      "|   Gold|Zimbabwe|  ZIM|\n",
      "|   Gold|Zimbabwe|  ZIM|\n",
      "|   Gold|Zimbabwe|  ZIM|\n",
      "|   Gold|Zimbabwe|  ZIM|\n",
      "|   Gold|Zimbabwe|  ZIM|\n",
      "|   Gold|Zimbabwe|  ZIM|\n",
      "|   Gold|Zimbabwe|  ZIM|\n",
      "|   Gold|Zimbabwe|  ZIM|\n",
      "|   Gold|Zimbabwe|  ZIM|\n",
      "+-------+--------+-----+\n",
      "only showing top 20 rows\n",
      "\n"
     ]
    }
   ],
   "source": [
    "sql_context.sql(\"\"\"\n",
    "    SELECT medalla, equipo, sigla\n",
    "    FROM resultados r\n",
    "        INNER JOIN deportista d\n",
    "        ON r.deportista_id = d.deportista_id\n",
    "        INNER JOIN paises p\n",
    "        ON p.pais_id = d.equipo_id\n",
    "    WHERE medalla <> 'NA'\n",
    "    ORDER BY sigla DESC\n",
    "\"\"\").show()"
   ]
  },
  {
   "cell_type": "code",
   "execution_count": 14,
   "id": "d265e1bd",
   "metadata": {},
   "outputs": [
    {
     "data": {
      "text/html": [
       "\n",
       "        <div>\n",
       "            <p><b>SparkContext</b></p>\n",
       "\n",
       "            <p><a href=\"http://b56fb41c01f0:4040\">Spark UI</a></p>\n",
       "\n",
       "            <dl>\n",
       "              <dt>Version</dt>\n",
       "                <dd><code>v3.1.2</code></dd>\n",
       "              <dt>Master</dt>\n",
       "                <dd><code>local</code></dd>\n",
       "              <dt>AppName</dt>\n",
       "                <dd><code>Replicacion</code></dd>\n",
       "            </dl>\n",
       "        </div>\n",
       "        "
      ],
      "text/plain": [
       "<SparkContext master=local appName=Replicacion>"
      ]
     },
     "execution_count": 14,
     "metadata": {},
     "output_type": "execute_result"
    }
   ],
   "source": [
    "spark"
   ]
  },
  {
   "cell_type": "markdown",
   "id": "bc52103d",
   "metadata": {},
   "source": [
    "- SQL puede llegar a ser mas rapido, pero requiere de un mayor poder de procesamiento.\n",
    "- Para sacar el mayor provecho de Spark, se recomienda usar las funciones nativas."
   ]
  },
  {
   "cell_type": "markdown",
   "id": "0ef289e9",
   "metadata": {},
   "source": [
    "# UDF"
   ]
  },
  {
   "cell_type": "code",
   "execution_count": 15,
   "id": "9ab39d03",
   "metadata": {},
   "outputs": [
    {
     "name": "stdout",
     "output_type": "stream",
     "text": [
      "+-------------+--------------------+------+----+------+----+---------+\n",
      "|deportista_id|              nombre|genero|edad|altura|peso|equipo_id|\n",
      "+-------------+--------------------+------+----+------+----+---------+\n",
      "|            1|           A Dijiang|     1|  24|   180|  80|      199|\n",
      "|            2|            A Lamusi|     1|  23|   170|  60|      199|\n",
      "|            3| Gunnar Nielsen Aaby|     1|  24|  null|null|      273|\n",
      "|            4|Edgar Lindenau Aabye|     1|  34|  null|null|      278|\n",
      "|            5|Christine Jacoba ...|     2|  21|   185|  82|      705|\n",
      "|            6|     Per Knut Aaland|     1|  31|   188|  75|     1096|\n",
      "|            7|        John Aalberg|     1|  31|   183|  72|     1096|\n",
      "|            8|\"Cornelia \"\"Cor\"\"...|     2|  18|   168|null|      705|\n",
      "|            9|    Antti Sami Aalto|     1|  26|   186|  96|      350|\n",
      "|           10|\"Einar Ferdinand ...|     1|  26|  null|null|      350|\n",
      "|           11|  Jorma Ilmari Aalto|     1|  22|   182|76.5|      350|\n",
      "|           12|   Jyri Tapani Aalto|     1|  31|   172|  70|      350|\n",
      "|           13|  Minna Maarit Aalto|     2|  30|   159|55.5|      350|\n",
      "|           14|Pirjo Hannele Aal...|     2|  32|   171|  65|      350|\n",
      "|           15|Arvo Ossian Aaltonen|     1|  22|  null|null|      350|\n",
      "|           16|Juhamatti Tapio A...|     1|  28|   184|  85|      350|\n",
      "|           17|Paavo Johannes Aa...|     1|  28|   175|  64|      350|\n",
      "|           18|Timo Antero Aaltonen|     1|  31|   189| 130|      350|\n",
      "|           19|Win Valdemar Aalt...|     1|  54|  null|null|      350|\n",
      "|           20|  Kjetil Andr Aamodt|     1|  20|   176|  85|      742|\n",
      "+-------------+--------------------+------+----+------+----+---------+\n",
      "only showing top 20 rows\n",
      "\n"
     ]
    }
   ],
   "source": [
    "dataframes[\"deportista_error\"].show()"
   ]
  },
  {
   "cell_type": "code",
   "execution_count": 26,
   "id": "1151f25d",
   "metadata": {},
   "outputs": [],
   "source": [
    "convert_integer = lambda value: int(value) if value and value.isdigit() else 0\n",
    "convert_float = lambda value: float(value) if value else 0"
   ]
  },
  {
   "cell_type": "code",
   "execution_count": 27,
   "id": "63c08685",
   "metadata": {},
   "outputs": [
    {
     "name": "stderr",
     "output_type": "stream",
     "text": [
      "21/08/21 20:59:36 WARN SimpleFunctionRegistry: The function convert_integer_udf replaced a previously registered function.\n",
      "21/08/21 20:59:36 WARN SimpleFunctionRegistry: The function convert_float_udf replaced a previously registered function.\n"
     ]
    },
    {
     "data": {
      "text/plain": [
       "<function __main__.<lambda>(z)>"
      ]
     },
     "execution_count": 27,
     "metadata": {},
     "output_type": "execute_result"
    }
   ],
   "source": [
    "convert_integer_udf = udf(lambda z: convert_integer(z), IntegerType())\n",
    "convert_float_udf = udf(lambda z: convert_float(z), FloatType())\n",
    "sql_context.udf.register(\"convert_integer_udf\", convert_integer_udf)\n",
    "sql_context.udf.register(\"convert_float_udf\", convert_float_udf)"
   ]
  },
  {
   "cell_type": "code",
   "execution_count": 29,
   "id": "64bf50b0",
   "metadata": {},
   "outputs": [
    {
     "name": "stdout",
     "output_type": "stream",
     "text": [
      "+------+\n",
      "|altura|\n",
      "+------+\n",
      "|   180|\n",
      "|   170|\n",
      "|     0|\n",
      "|     0|\n",
      "|   185|\n",
      "|   188|\n",
      "|   183|\n",
      "|   168|\n",
      "|   186|\n",
      "|     0|\n",
      "|   182|\n",
      "|   172|\n",
      "|   159|\n",
      "|   171|\n",
      "|     0|\n",
      "|   184|\n",
      "|   175|\n",
      "|   189|\n",
      "|     0|\n",
      "|   176|\n",
      "+------+\n",
      "only showing top 20 rows\n",
      "\n"
     ]
    },
    {
     "name": "stderr",
     "output_type": "stream",
     "text": [
      "Traceback (most recent call last):\n",
      "  File \"/usr/local/spark/python/lib/pyspark.zip/pyspark/daemon.py\", line 186, in manager\n",
      "  File \"/usr/local/spark/python/lib/pyspark.zip/pyspark/daemon.py\", line 74, in worker\n",
      "  File \"/usr/local/spark/python/lib/pyspark.zip/pyspark/worker.py\", line 643, in main\n",
      "    if read_int(infile) == SpecialLengths.END_OF_STREAM:\n",
      "  File \"/usr/local/spark/python/lib/pyspark.zip/pyspark/serializers.py\", line 564, in read_int\n",
      "    raise EOFError\n",
      "EOFError\n"
     ]
    }
   ],
   "source": [
    "dataframes[\"deportista_error\"].select(\n",
    "    convert_integer_udf(\"altura\").alias(\"altura\")\n",
    ").show()"
   ]
  },
  {
   "cell_type": "code",
   "execution_count": null,
   "id": "3337fde0",
   "metadata": {},
   "outputs": [],
   "source": []
  },
  {
   "cell_type": "code",
   "execution_count": null,
   "id": "a0616d5f",
   "metadata": {},
   "outputs": [],
   "source": []
  },
  {
   "cell_type": "code",
   "execution_count": null,
   "id": "1fac6166",
   "metadata": {},
   "outputs": [],
   "source": []
  },
  {
   "cell_type": "code",
   "execution_count": null,
   "id": "2f1aa893",
   "metadata": {},
   "outputs": [],
   "source": []
  },
  {
   "cell_type": "code",
   "execution_count": null,
   "id": "4adb92fa",
   "metadata": {},
   "outputs": [],
   "source": []
  },
  {
   "cell_type": "code",
   "execution_count": null,
   "id": "68ecff3e",
   "metadata": {},
   "outputs": [],
   "source": []
  },
  {
   "cell_type": "code",
   "execution_count": null,
   "id": "afecd30a",
   "metadata": {},
   "outputs": [],
   "source": []
  },
  {
   "cell_type": "code",
   "execution_count": null,
   "id": "3fd92ffe",
   "metadata": {},
   "outputs": [],
   "source": []
  },
  {
   "cell_type": "code",
   "execution_count": null,
   "id": "fa28074a",
   "metadata": {},
   "outputs": [],
   "source": []
  },
  {
   "cell_type": "code",
   "execution_count": null,
   "id": "60ca400d",
   "metadata": {},
   "outputs": [],
   "source": []
  },
  {
   "cell_type": "code",
   "execution_count": null,
   "id": "7708a18f",
   "metadata": {},
   "outputs": [],
   "source": []
  },
  {
   "cell_type": "code",
   "execution_count": null,
   "id": "1f9c8697",
   "metadata": {},
   "outputs": [],
   "source": []
  },
  {
   "cell_type": "code",
   "execution_count": null,
   "id": "c8382bfe",
   "metadata": {},
   "outputs": [],
   "source": []
  },
  {
   "cell_type": "code",
   "execution_count": null,
   "id": "f8c5f651",
   "metadata": {},
   "outputs": [],
   "source": []
  },
  {
   "cell_type": "code",
   "execution_count": null,
   "id": "06706b18",
   "metadata": {},
   "outputs": [],
   "source": []
  },
  {
   "cell_type": "code",
   "execution_count": null,
   "id": "cee57764",
   "metadata": {},
   "outputs": [],
   "source": []
  },
  {
   "cell_type": "code",
   "execution_count": null,
   "id": "5b650375",
   "metadata": {},
   "outputs": [],
   "source": []
  },
  {
   "cell_type": "code",
   "execution_count": null,
   "id": "39dd72b7",
   "metadata": {},
   "outputs": [],
   "source": []
  },
  {
   "cell_type": "code",
   "execution_count": null,
   "id": "da22b0af",
   "metadata": {},
   "outputs": [],
   "source": []
  },
  {
   "cell_type": "code",
   "execution_count": null,
   "id": "1b24d064",
   "metadata": {},
   "outputs": [],
   "source": [
    "spark.stop()"
   ]
  },
  {
   "cell_type": "code",
   "execution_count": null,
   "id": "b5bcb5ca",
   "metadata": {},
   "outputs": [],
   "source": []
  }
 ],
 "metadata": {
  "kernelspec": {
   "display_name": "Python 3 (ipykernel)",
   "language": "python",
   "name": "python3"
  },
  "language_info": {
   "codemirror_mode": {
    "name": "ipython",
    "version": 3
   },
   "file_extension": ".py",
   "mimetype": "text/x-python",
   "name": "python",
   "nbconvert_exporter": "python",
   "pygments_lexer": "ipython3",
   "version": "3.9.6"
  }
 },
 "nbformat": 4,
 "nbformat_minor": 5
}
